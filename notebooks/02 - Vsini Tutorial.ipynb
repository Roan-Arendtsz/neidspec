{
 "cells": [
  {
   "cell_type": "markdown",
   "metadata": {},
   "source": [
    "# Vsini tutorial"
   ]
  },
  {
   "cell_type": "code",
   "execution_count": 1,
   "metadata": {
    "ExecuteTime": {
     "end_time": "2024-03-01T19:29:40.952694Z",
     "start_time": "2024-03-01T19:29:40.670322Z"
    }
   },
   "outputs": [
    {
     "ename": "ModuleNotFoundError",
     "evalue": "No module named 'hpfspec'",
     "output_type": "error",
     "traceback": [
      "\u001B[0;31m---------------------------------------------------------------------------\u001B[0m",
      "\u001B[0;31mModuleNotFoundError\u001B[0m                       Traceback (most recent call last)",
      "Cell \u001B[0;32mIn[1], line 4\u001B[0m\n\u001B[1;32m      2\u001B[0m \u001B[38;5;28;01mimport\u001B[39;00m \u001B[38;5;21;01mmatplotlib\u001B[39;00m\u001B[38;5;21;01m.\u001B[39;00m\u001B[38;5;21;01mpyplot\u001B[39;00m \u001B[38;5;28;01mas\u001B[39;00m \u001B[38;5;21;01mplt\u001B[39;00m\n\u001B[1;32m      3\u001B[0m get_ipython()\u001B[38;5;241m.\u001B[39mrun_line_magic(\u001B[38;5;124m'\u001B[39m\u001B[38;5;124mmatplotlib\u001B[39m\u001B[38;5;124m'\u001B[39m, \u001B[38;5;124m'\u001B[39m\u001B[38;5;124minline\u001B[39m\u001B[38;5;124m'\u001B[39m)\n\u001B[0;32m----> 4\u001B[0m \u001B[38;5;28;01mimport\u001B[39;00m \u001B[38;5;21;01mhpfspec\u001B[39;00m\n\u001B[1;32m      5\u001B[0m \u001B[38;5;28;01mimport\u001B[39;00m \u001B[38;5;21;01mnumpy\u001B[39;00m \u001B[38;5;28;01mas\u001B[39;00m \u001B[38;5;21;01mnp\u001B[39;00m\n\u001B[1;32m      6\u001B[0m \u001B[38;5;28;01mfrom\u001B[39;00m \u001B[38;5;21;01mhpfspec\u001B[39;00m \u001B[38;5;28;01mimport\u001B[39;00m utils, spec_help\n",
      "\u001B[0;31mModuleNotFoundError\u001B[0m: No module named 'hpfspec'"
     ]
    }
   ],
   "source": [
    "import sys\n",
    "import matplotlib.pyplot as plt\n",
    "%matplotlib inline\n",
    "import hpfspec\n",
    "import numpy as np\n",
    "from hpfspec import utils, spec_help\n",
    "utils\n",
    "#sys.path.pop(0)"
   ]
  },
  {
   "cell_type": "code",
   "execution_count": null,
   "metadata": {
    "scrolled": true
   },
   "outputs": [],
   "source": [
    "# Read in three target star spectra\n",
    "H1 = hpfspec.HPFSpectrum(\"../hpfspec/data/hpf/spectra/G_9-40/Slope-20190301T024821_R01.optimal.fits\",ccf_redshift=True)\n",
    "H2 = hpfspec.HPFSpectrum(\"../hpfspec/data/hpf/spectra/GJ_699/Slope-20181003T014556_R01.optimal.fits\",ccf_redshift=True)\n",
    "H3 = hpfspec.HPFSpectrum(\"../hpfspec/data/hpf/spectra/G_227-22/Slope-20180919T015627_R01.optimal.fits\",ccf_redshift=True)"
   ]
  },
  {
   "cell_type": "code",
   "execution_count": null,
   "metadata": {},
   "outputs": [],
   "source": [
    "# Lets overplot both of them and see that they line up\n",
    "# Lets take a look at the TiO bandhead at ~8860A\n",
    "# G 227-22 is definitely broader\n",
    "# G 9-40 is shallower in the TiO band (earlier spectral type)\n",
    "fig, ax = plt.subplots(dpi=200)\n",
    "o = 6\n",
    "ax.plot(H1.w_shifted[o],H1.f_debl[o],lw=1,label=H1.object)\n",
    "ax.plot(H2.w_shifted[o],H2.f_debl[o],lw=1,label=H2.object)\n",
    "ax.plot(H3.w_shifted[o],H3.f_debl[o],lw=1,alpha=0.2,label=H3.object)\n",
    "utils.ax_apply_settings(ax)\n",
    "ax.legend(loc='lower right')\n",
    "ax.set_xlim(8860,8870)\n",
    "ax.set_xlabel('Wavelength [A]')\n",
    "ax.set_ylabel('Normalized Flux')"
   ]
  },
  {
   "cell_type": "code",
   "execution_count": null,
   "metadata": {},
   "outputs": [],
   "source": [
    "# Lets take a look at CCFs\n",
    "v = np.linspace(-125.,125.,1501)\n",
    "orders = [5,6,16,17]\n",
    "CCF1 = H1.calculate_ccf_for_orders(v,orders=orders,plot=True)\n",
    "CCF2 = H2.calculate_ccf_for_orders(v,orders=orders,plot=True)\n",
    "CCF3 = H3.calculate_ccf_for_orders(v,orders=orders,plot=True)"
   ]
  },
  {
   "cell_type": "code",
   "execution_count": null,
   "metadata": {},
   "outputs": [],
   "source": [
    "# Lets line all of them up\n",
    "fig, ax = plt.subplots(dpi=100)\n",
    "ax.plot(v-H1.rv,CCF1[28]/np.median(CCF1[28]),label=H1.object)\n",
    "ax.plot(v-H2.rv,CCF2[28]/np.median(CCF2[28]),label=H2.object)\n",
    "ax.plot(v-H3.rv,CCF3[28]/np.median(CCF3[28]),label=H3.object)\n",
    "ax.set_xlim(-50,50)\n",
    "ax.set_xlabel('v [km/s]')\n",
    "ax.set_ylabel('Flux')\n",
    "ax.legend(loc='lower right')"
   ]
  },
  {
   "cell_type": "markdown",
   "metadata": {},
   "source": [
    "# Calculating Vsinis by comparing CCF widths "
   ]
  },
  {
   "cell_type": "code",
   "execution_count": null,
   "metadata": {},
   "outputs": [],
   "source": [
    "# Lets calculate CCFs by comparing CCF widths.\n",
    "# Note this assumes that your reference star and target star are similar spectral types.\n",
    "# This further assumes that the reference star is a slow (0-2km/s) rotator, such that the vsini broadening is not \n",
    "# seen with the HPF resolution"
   ]
  },
  {
   "cell_type": "code",
   "execution_count": null,
   "metadata": {},
   "outputs": [],
   "source": [
    "# Slow rotator G 9-40\n",
    "ftarg = \"../hpfspec/data/hpf/spectra/G_9-40/Slope-20190301T024821_R01.optimal.fits\"\n",
    "fcal = \"../hpfspec/data/hpf/spectra/GJ_699/Slope-20181003T014556_R01.optimal.fits\"\n",
    "spec_help.vsini_from_hpf_spectra(ftarg,fcal,plot=True)"
   ]
  },
  {
   "cell_type": "code",
   "execution_count": null,
   "metadata": {},
   "outputs": [],
   "source": [
    "# Fast rotator: G 227-22\n",
    "ftarg = \"../hpfspec/data/hpf/spectra/G_227-22/Slope-20180919T015627_R01.optimal.fits\"\n",
    "fcal  = \"../hpfspec/data/hpf/spectra/GJ_699/Slope-20181003T014556_R01.optimal.fits\"\n",
    "spec_help.vsini_from_hpf_spectra(ftarg,fcal,plot=True,orders=[4, 5, 14, 15, 16, 17])"
   ]
  },
  {
   "cell_type": "code",
   "execution_count": null,
   "metadata": {},
   "outputs": [],
   "source": []
  },
  {
   "cell_type": "code",
   "execution_count": null,
   "metadata": {},
   "outputs": [],
   "source": []
  }
 ],
 "metadata": {
  "kernelspec": {
   "display_name": "Python 3 (ipykernel)",
   "language": "python",
   "name": "python3"
  },
  "language_info": {
   "codemirror_mode": {
    "name": "ipython",
    "version": 3
   },
   "file_extension": ".py",
   "mimetype": "text/x-python",
   "name": "python",
   "nbconvert_exporter": "python",
   "pygments_lexer": "ipython3",
   "version": "3.10.12"
  }
 },
 "nbformat": 4,
 "nbformat_minor": 2
}
