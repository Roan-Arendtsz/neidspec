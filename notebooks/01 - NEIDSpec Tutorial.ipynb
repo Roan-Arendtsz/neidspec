{
 "cells": [
  {
   "cell_type": "code",
   "execution_count": 1,
   "metadata": {
    "ExecuteTime": {
     "end_time": "2024-03-08T20:05:19.806381Z",
     "start_time": "2024-03-08T20:05:19.477677Z"
    }
   },
   "outputs": [],
   "source": [
    "from __future__ import print_function\n",
    "import astropy\n",
    "import sys\n",
    "import matplotlib.pyplot as plt\n",
    "import pandas as pd\n",
    "import numpy as np\n",
    "#sys.path.pop(0)\n",
    "%matplotlib inline"
   ]
  },
  {
   "cell_type": "markdown",
   "metadata": {},
   "source": [
    "# First, lets make sure that barycorrpy is working"
   ]
  },
  {
   "cell_type": "code",
   "execution_count": 2,
   "metadata": {
    "ExecuteTime": {
     "end_time": "2024-03-08T20:05:20.252780Z",
     "start_time": "2024-03-08T20:05:19.807475Z"
    }
   },
   "outputs": [
    {
     "data": {
      "text/plain": "'0.4.4'"
     },
     "execution_count": 2,
     "metadata": {},
     "output_type": "execute_result"
    }
   ],
   "source": [
    "import barycorrpy\n",
    "barycorrpy.__version__ #This tutorial assumes v0.4.4"
   ]
  },
  {
   "cell_type": "code",
   "execution_count": 3,
   "metadata": {
    "scrolled": true,
    "ExecuteTime": {
     "end_time": "2024-03-08T20:05:21.213211Z",
     "start_time": "2024-03-08T20:05:20.253359Z"
    }
   },
   "outputs": [
    {
     "name": "stdout",
     "output_type": "stream",
     "text": [
      "Please join our Google Group to keep abreast of the latest versions and bug fixes - https://groups.google.com/g/barycorrpy\n",
      "***********SUCCESS**************\n",
      "All barycentric correction velocities,  and time stamp conversions match expected values.\n"
     ]
    }
   ],
   "source": [
    "# Running sample script - this should print:\n",
    "# \"\"\"\n",
    "# ***********SUCCESS**************\n",
    "# All barycentric correction velocities,  and time stamp conversions match expected values.\n",
    "# \"\"\"\n",
    "from barycorrpy import sample_script \n",
    "results = sample_script.run_sample() "
   ]
  },
  {
   "cell_type": "markdown",
   "metadata": {},
   "source": [
    "# Import our package"
   ]
  },
  {
   "cell_type": "code",
   "execution_count": 4,
   "metadata": {
    "ExecuteTime": {
     "end_time": "2024-03-08T20:05:21.564277Z",
     "start_time": "2024-03-08T20:05:21.213817Z"
    }
   },
   "outputs": [
    {
     "data": {
      "text/plain": "<module 'neidspec' from '/home/tehan/PycharmProjects/neidspec/neidspec/__init__.py'>"
     },
     "execution_count": 4,
     "metadata": {},
     "output_type": "execute_result"
    }
   ],
   "source": [
    "import neidspec\n",
    "neidspec"
   ]
  },
  {
   "cell_type": "code",
   "execution_count": 6,
   "metadata": {
    "ExecuteTime": {
     "end_time": "2024-03-08T20:05:37.602581Z",
     "start_time": "2024-03-08T20:05:37.593663Z"
    }
   },
   "outputs": [
    {
     "data": {
      "text/plain": "array([           nan,            nan,     0.        ,  3570.94367126,\n        3591.94333894,  3613.47983754,  3635.09951646,  3656.83234655,\n        3679.1573399 ,  3701.75997337,  3724.37146318,  3747.35868462,\n        3770.57686586,  3794.19326882,  3818.06642302,  3842.23298328,\n        3866.7091192 ,  3891.48660622,  3916.59850095,  3942.01710504,\n        3967.80097092,  3993.90552408,  4020.36610681,  4047.16164987,\n        4074.34994209,  4101.87150523,  4129.76985047,  4158.06178248,\n        4186.73911121,  4215.83231735,  4245.29682955,  4275.21192486,\n        4305.5225418 ,  4336.29124525,  4367.49423521,  4399.13940817,\n        4431.26137395,  4463.8450136 ,  4496.91978452,  4530.4812161 ,\n        4564.55096207,  4599.12550944,  4634.24637045,  4669.89780368,\n        4706.10629927,  4742.87683511,  4780.22449168,  4818.16955921,\n        4856.72206938,  4895.88966379,  4935.69832859,  4976.16662435,\n        5017.30088343,  5059.10987254,  5101.63438257,  5144.89446693,\n        5188.84942617,  5233.58817045,  5279.10250243,  5325.41596405,\n        5372.54915736,  5420.52133949,  5469.36197221,  5519.08875414,\n        5569.72872129,  5621.306359  ,  5673.84609958,  5727.37956816,\n        5781.93158823,  5837.53276665,  5894.21375609,  5952.00618515,\n        6010.94289786,  6071.0583743 ,  6132.38768919,  6194.96911908,\n        6258.84215987,  6324.04482164,  6390.61968571,  6458.61113923,\n        6528.06457797,  6599.02844522,  6671.55137554,  6745.68658457,\n        6821.48706689,  6899.01063286,  6978.3190621 ,  7059.4657775 ,\n        7142.52642455,  7227.56353147,  7314.65072227,  7403.86130733,\n        7495.27462969,  7588.97320911,  7685.04427052,  7783.57835614,\n        7884.67218587,  7988.42531136,  8094.946611  ,  8204.34592774,\n        8316.7425638 ,  8432.26202685,  8551.03587646,  8673.20219042,\n        8798.91167436,  8928.31593581,  9061.586941  ,  9198.88956011,\n        9340.42597787,  9486.37497466,  9636.96856279,  9792.43216696,\n        9952.97398851, 10118.939156  , 10290.30681762, 10467.80728529,\n       10651.78154769, 10842.5395876 ,     0.        ,     0.        ,\n           0.        ,            nan])"
     },
     "execution_count": 6,
     "metadata": {},
     "output_type": "execute_result"
    }
   ],
   "source": [
    "from astropy.io import fits\n",
    "hdul = fits.open(\"/home/tehan/Documents/NeidSpecMatch/library/FITS/neidL2_20210805T053326.fits\")\n",
    "hdul[7].data[:, 0]"
   ]
  },
  {
   "cell_type": "code",
   "execution_count": 10,
   "metadata": {
    "ExecuteTime": {
     "end_time": "2024-03-08T20:06:15.982352Z",
     "start_time": "2024-03-08T20:06:15.805831Z"
    }
   },
   "outputs": [
    {
     "name": "stderr",
     "output_type": "stream",
     "text": [
      "/home/tehan/PycharmProjects/neidspec/neidspec/neidspec.py:288: RuntimeWarning: divide by zero encountered in divide\n",
      "  self.f_sky_debl = self.hdu[2].data[s:e] * self.exptime / hdu[2].data[s:e]\n",
      "/home/tehan/PycharmProjects/neidspec/neidspec/neidspec.py:288: RuntimeWarning: invalid value encountered in divide\n",
      "  self.f_sky_debl = self.hdu[2].data[s:e] * self.exptime / hdu[2].data[s:e]\n",
      "/home/tehan/PycharmProjects/neidspec/neidspec/neidspec.py:293: RuntimeWarning: invalid value encountered in divide\n",
      "  self.f_debl[i] = self.f_debl[i] / np.nanmedian(self.f_debl[i])\n"
     ]
    }
   ],
   "source": [
    "# Lets read in an HPF spectrum\n",
    "# The function reads in the object name from the header\n",
    "# If ccf_redshift is true, then it will redshift the wavelength to the stellar frame\n",
    "# i.e., this takes out the absolute redshift estimated by calculating a CCF\n",
    "N = neidspec.NEIDSpectrum(\"/home/tehan/Documents/NeidSpecMatch/library/FITS/neidL2_20210805T053326.fits\",ccf_redshift=True)"
   ]
  },
  {
   "cell_type": "code",
   "execution_count": 11,
   "metadata": {
    "ExecuteTime": {
     "end_time": "2024-03-08T20:06:18.913875Z",
     "start_time": "2024-03-08T20:06:18.911131Z"
    }
   },
   "outputs": [
    {
     "data": {
      "text/plain": "2459431.7438520566"
     },
     "execution_count": 11,
     "metadata": {},
     "output_type": "execute_result"
    }
   ],
   "source": [
    "# Barycentric julian date of the observation\n",
    "N.bjd"
   ]
  },
  {
   "cell_type": "code",
   "execution_count": 12,
   "metadata": {
    "ExecuteTime": {
     "end_time": "2024-03-08T20:06:19.811776Z",
     "start_time": "2024-03-08T20:06:19.809653Z"
    }
   },
   "outputs": [
    {
     "name": "stdout",
     "output_type": "stream",
     "text": [
      "NEIDSpec(TIC 188589164,sn55=4.8)\n"
     ]
    }
   ],
   "source": [
    "print(N) # The SNR is for HPF order 18 (~1micron)"
   ]
  },
  {
   "cell_type": "markdown",
   "metadata": {},
   "source": [
    "### This creates a 'Target' class instance within our object\n",
    "\n",
    "- The config file for the object is by default saved to \"../data/target_files/\"\n",
    "- If that file already exist, then it is read in from disk. If it does not exist, it queries Simbad and creates the file\n",
    "- This way you can change the values within the file if it is already created"
   ]
  },
  {
   "cell_type": "code",
   "execution_count": null,
   "metadata": {},
   "outputs": [],
   "source": [
    "# This is used \n",
    "N.target"
   ]
  },
  {
   "cell_type": "code",
   "execution_count": null,
   "metadata": {},
   "outputs": [],
   "source": [
    "N.target.ra, N.target.dec"
   ]
  },
  {
   "cell_type": "code",
   "execution_count": null,
   "metadata": {},
   "outputs": [],
   "source": [
    "# We can use this to calculate the barycentric velocity in km/s\n",
    "t = astropy.time.Time(\"2019-10-08 00:00:00.0\",format=\"iso\").jd\n",
    "N.target.calc_barycentric_velocity(t,obs='McDonald Observatory')"
   ]
  },
  {
   "cell_type": "code",
   "execution_count": null,
   "metadata": {},
   "outputs": [],
   "source": [
    "# The barycentric velocity is automatically stored in an attribute\n",
    "N.berv # km/s"
   ]
  },
  {
   "cell_type": "code",
   "execution_count": null,
   "metadata": {},
   "outputs": [],
   "source": [
    "np.shape(N.f_debl)"
   ]
  },
  {
   "cell_type": "markdown",
   "metadata": {},
   "source": [
    "## Lets plot the spectrum "
   ]
  },
  {
   "cell_type": "code",
   "execution_count": null,
   "metadata": {},
   "outputs": [],
   "source": [
    "N.plot_order(102,deblazed=False)"
   ]
  },
  {
   "cell_type": "code",
   "execution_count": null,
   "metadata": {},
   "outputs": [],
   "source": [
    "N.plot_order(102,deblazed=True)"
   ]
  },
  {
   "cell_type": "code",
   "execution_count": null,
   "metadata": {},
   "outputs": [],
   "source": [
    "N.plot_order(101,deblazed=True)"
   ]
  },
  {
   "cell_type": "code",
   "execution_count": null,
   "metadata": {},
   "outputs": [],
   "source": [
    "#We could also this the following way using the handy wavelength and flux attributes\n",
    "o = 102\n",
    "o -= 10\n",
    "\n",
    "# Blazed\n",
    "fig, ax = plt.subplots()\n",
    "ax.plot(N.w_shifted[o],N.f[o])\n",
    "ax.set_title(\"Blazed spectrum shifted to stellar restframe\\n(corrected for barycentric and absolute RV motion)\")\n",
    "\n",
    "# Deblazed\n",
    "fig, ax = plt.subplots()\n",
    "ax.plot(N.w_shifted[o],N.f_debl[o])\n",
    "ax.set_title(\"Deblazed spectrum shifted to stellar restframe\\n(corrected for barycentric and absolute RV motion)\")\n"
   ]
  },
  {
   "cell_type": "code",
   "execution_count": null,
   "metadata": {},
   "outputs": [],
   "source": [
    "# Other attributes are:\n",
    "print(N.w_shifted.shape) # shifted wavelength\n",
    "print(N.w.shape)         # non-shifted original wavelength\n",
    "print(N.f.shape)         # non-deblazed science flux (sky-subtracted)\n",
    "print(N.f_debl.shape)    # deblazed science flux (sky-subtracted)\n",
    "print(N.f_sci.shape)     # Science flux (not sky-subtracted)\n",
    "print(N.e.shape)         # error for deblazed sky-subtracted science flux\n",
    "print(N.object)          # Object\n",
    "print(N.bjd)             # BJD_TDB midpoint\n",
    "print(N.sn55)            # SNR for order 55\n",
    "print(N.berv)            # barycentric correction in km/s"
   ]
  },
  {
   "cell_type": "markdown",
   "metadata": {},
   "source": [
    "# CCFs"
   ]
  },
  {
   "cell_type": "code",
   "execution_count": null,
   "metadata": {},
   "outputs": [],
   "source": [
    "# Lets calculate fast ccfs for well-behaved orders using the crosscorr package\n",
    "v = np.linspace(-125.,125.,1501)\n",
    "orders = [55,56,102]\n",
    "ccf = N.calculate_ccf_for_orders(v,orders=orders,plot=True)"
   ]
  },
  {
   "cell_type": "code",
   "execution_count": null,
   "metadata": {},
   "outputs": [],
   "source": [
    "fig, ax = plt.subplots()\n",
    "o = 55\n",
    "ax.plot(v,ccf[o - 10]/np.nanmedian(ccf[o - 10]))"
   ]
  },
  {
   "cell_type": "code",
   "execution_count": null,
   "metadata": {
    "scrolled": false
   },
   "outputs": [],
   "source": [
    "# Lets calculate fast ccfs for well-behaved orders using the crosscorr package\n",
    "v = np.linspace(-125., 125., 1501)\n",
    "orders = [55, 56, 102]\n",
    "ccf = N.calculate_ccf_for_orders(v, orders=orders, plot=True)# Calculates on barycentric shifted (not abs RV shifted) and undeblazed version\n",
    "# rv1 is just the argmin of the CCF, the rv2 is an actual Gaussian fit minimum to the CCF valley\n",
    "# You can see that order 18 is pretty wonky -- likely tellurics\n",
    "# orders = [55,56]\n",
    "# rv1, rv2 = N.rvabs_for_orders(v,orders,plot=True,verbose=True)"
   ]
  },
  {
   "cell_type": "code",
   "execution_count": null,
   "metadata": {},
   "outputs": [],
   "source": [
    "# Lets calculate fast ccfs for well-behaved orders using the crosscorr package\n",
    "v = np.linspace(-125.,125.,1501)\n",
    "orders = [55,56,57,94,95,]\n",
    "ccf = N.calculate_ccf_for_orders(v,orders=orders,plot=True)"
   ]
  },
  {
   "cell_type": "markdown",
   "metadata": {},
   "source": [
    "# Working with a collection of spectra"
   ]
  },
  {
   "cell_type": "code",
   "execution_count": null,
   "metadata": {},
   "outputs": [],
   "source": [
    "import glob"
   ]
  },
  {
   "cell_type": "code",
   "execution_count": null,
   "metadata": {},
   "outputs": [],
   "source": [
    "files = glob.glob(\"../neidspec/data/neid/spectra/*.fits\")\n",
    "HS = neidspec.NEIDSpecList(filelist=files)"
   ]
  },
  {
   "cell_type": "code",
   "execution_count": null,
   "metadata": {},
   "outputs": [],
   "source": [
    "HS.df"
   ]
  },
  {
   "cell_type": "code",
   "execution_count": null,
   "metadata": {},
   "outputs": [],
   "source": [
    "HS.sn55"
   ]
  },
  {
   "cell_type": "code",
   "execution_count": null,
   "metadata": {},
   "outputs": [],
   "source": [
    "HS.objects"
   ]
  },
  {
   "cell_type": "code",
   "execution_count": null,
   "metadata": {},
   "outputs": [],
   "source": [
    "N"
   ]
  },
  {
   "cell_type": "code",
   "execution_count": null,
   "metadata": {},
   "outputs": [],
   "source": []
  }
 ],
 "metadata": {
  "kernelspec": {
   "display_name": "Python 3 (ipykernel)",
   "language": "python",
   "name": "python3"
  },
  "language_info": {
   "codemirror_mode": {
    "name": "ipython",
    "version": 3
   },
   "file_extension": ".py",
   "mimetype": "text/x-python",
   "name": "python",
   "nbconvert_exporter": "python",
   "pygments_lexer": "ipython3",
   "version": "3.10.12"
  }
 },
 "nbformat": 4,
 "nbformat_minor": 2
}
