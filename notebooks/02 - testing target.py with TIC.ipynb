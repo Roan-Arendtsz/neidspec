{
 "cells": [
  {
   "cell_type": "code",
   "execution_count": 1,
   "metadata": {},
   "outputs": [
    {
     "data": {
      "text/plain": [
       "'/Users/gks/Dropbox/mypylib/notebooks/GIT'"
      ]
     },
     "execution_count": 1,
     "metadata": {},
     "output_type": "execute_result"
    }
   ],
   "source": [
    "import sys\n",
    "#sys.path.pop(0)"
   ]
  },
  {
   "cell_type": "code",
   "execution_count": 2,
   "metadata": {},
   "outputs": [
    {
     "name": "stdout",
     "output_type": "stream",
     "text": [
      "AIRTOVAC (TRUE for HARPS, FALSE TRUE HPF):  False\n"
     ]
    }
   ],
   "source": [
    "from hpfspec import target\n",
    "import astropy.time"
   ]
  },
  {
   "cell_type": "code",
   "execution_count": 6,
   "metadata": {},
   "outputs": [
    {
     "name": "stdout",
     "output_type": "stream",
     "text": [
      "Reading from file /Users/gks/opt/anaconda2/envs/py36/lib/python3.6/site-packages/hpfspec-0.1.0-py3.6.egg/hpfspec/data/target_files/TIC-90504905.config\n"
     ]
    }
   ],
   "source": [
    "# Query TIC target (uses the TESS Input Catalog)\n",
    "T = target.Target(\"TIC-90504905\")"
   ]
  },
  {
   "cell_type": "code",
   "execution_count": 7,
   "metadata": {},
   "outputs": [
    {
     "data": {
      "text/plain": [
       "TIC-90504905, ra=290.5724, dec=26.3196, pmra=-29.2354, pmdec=-14.4493, rv=0.0000, px=9.5031, epoch=2451545.0"
      ]
     },
     "execution_count": 7,
     "metadata": {},
     "output_type": "execute_result"
    }
   ],
   "source": [
    "T"
   ]
  },
  {
   "cell_type": "code",
   "execution_count": 8,
   "metadata": {},
   "outputs": [
    {
     "name": "stdout",
     "output_type": "stream",
     "text": [
      "Reading from file /Users/gks/opt/anaconda2/envs/py36/lib/python3.6/site-packages/hpfspec-0.1.0-py3.6.egg/hpfspec/data/target_files/GJ_699.config\n"
     ]
    }
   ],
   "source": [
    "# Query normal Simbad target\n",
    "T = target.Target(\"GJ_699\")"
   ]
  },
  {
   "cell_type": "code",
   "execution_count": 9,
   "metadata": {},
   "outputs": [
    {
     "data": {
      "text/plain": [
       "GJ_699, ra=269.4521, dec=4.6934, pmra=-802.803, pmdec=10362.542, rv=-110.5100, px=547.4506, epoch=2451545.0"
      ]
     },
     "execution_count": 9,
     "metadata": {},
     "output_type": "execute_result"
    }
   ],
   "source": [
    "T"
   ]
  },
  {
   "cell_type": "code",
   "execution_count": null,
   "metadata": {},
   "outputs": [],
   "source": []
  }
 ],
 "metadata": {
  "kernelspec": {
   "display_name": "Python 3",
   "language": "python",
   "name": "python3"
  },
  "language_info": {
   "codemirror_mode": {
    "name": "ipython",
    "version": 3
   },
   "file_extension": ".py",
   "mimetype": "text/x-python",
   "name": "python",
   "nbconvert_exporter": "python",
   "pygments_lexer": "ipython3",
   "version": "3.6.9"
  }
 },
 "nbformat": 4,
 "nbformat_minor": 4
}
