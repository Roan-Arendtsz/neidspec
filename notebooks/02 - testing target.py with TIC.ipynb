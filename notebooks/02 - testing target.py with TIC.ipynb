{
 "cells": [
  {
   "cell_type": "code",
   "execution_count": 1,
   "metadata": {},
   "outputs": [],
   "source": [
    "import sys\n",
    "#sys.path.pop(0)"
   ]
  },
  {
   "cell_type": "code",
   "execution_count": 2,
   "metadata": {},
   "outputs": [
    {
     "name": "stdout",
     "output_type": "stream",
     "text": [
      "AIRTOVAC (TRUE for HARPS, FALSE TRUE HPF):  False\n"
     ]
    }
   ],
   "source": [
    "from hpfspec import target\n",
    "import astropy.time"
   ]
  },
  {
   "cell_type": "code",
   "execution_count": 3,
   "metadata": {},
   "outputs": [
    {
     "name": "stdout",
     "output_type": "stream",
     "text": [
      "Reading from file /home/sejones/anaconda3/lib/python3.8/site-packages/hpfspec-0.1.0-py3.8.egg/hpfspec/data/target_files/TIC-90504905.config\n",
      "No section: 'targetinfo' File does not exist!\n",
      "Querying TIC for data\n",
      "Saving to file /home/sejones/anaconda3/lib/python3.8/site-packages/hpfspec-0.1.0-py3.8.egg/hpfspec/data/target_files/TIC-90504905.config\n",
      "ra 290.572370199919\n",
      "dec 26.3195554868421\n",
      "pmra -29.2354\n",
      "pmdec -14.4493\n",
      "px 9.50313\n",
      "epoch 2451545.0\n",
      "rv 0.0\n",
      "Done\n"
     ]
    }
   ],
   "source": [
    "# Query TIC target (uses the TESS Input Catalog)\n",
    "T = target.Target(\"TIC-90504905\")"
   ]
  },
  {
   "cell_type": "code",
   "execution_count": 4,
   "metadata": {},
   "outputs": [
    {
     "data": {
      "text/plain": [
       "TIC-90504905, ra=290.5724, dec=26.3196, pmra=-29.2354, pmdec=-14.4493, rv=0.0000, px=9.5031, epoch=2451545.0"
      ]
     },
     "execution_count": 4,
     "metadata": {},
     "output_type": "execute_result"
    }
   ],
   "source": [
    "T"
   ]
  },
  {
   "cell_type": "code",
   "execution_count": 5,
   "metadata": {},
   "outputs": [
    {
     "name": "stdout",
     "output_type": "stream",
     "text": [
      "Reading from file /home/sejones/anaconda3/lib/python3.8/site-packages/hpfspec-0.1.0-py3.8.egg/hpfspec/data/target_files/GJ_699.config\n"
     ]
    }
   ],
   "source": [
    "# Query normal Simbad target\n",
    "T = target.Target(\"GJ_699\")"
   ]
  },
  {
   "cell_type": "code",
   "execution_count": 6,
   "metadata": {},
   "outputs": [
    {
     "data": {
      "text/plain": [
       "GJ_699, ra=269.4521, dec=4.6934, pmra=-802.803, pmdec=10362.542, rv=-110.5100, px=547.4506, epoch=2451545.0"
      ]
     },
     "execution_count": 6,
     "metadata": {},
     "output_type": "execute_result"
    }
   ],
   "source": [
    "T"
   ]
  },
  {
   "cell_type": "code",
   "execution_count": null,
   "metadata": {},
   "outputs": [],
   "source": []
  }
 ],
 "metadata": {
  "kernelspec": {
   "display_name": "Python 3",
   "language": "python",
   "name": "python3"
  },
  "language_info": {
   "codemirror_mode": {
    "name": "ipython",
    "version": 3
   },
   "file_extension": ".py",
   "mimetype": "text/x-python",
   "name": "python",
   "nbconvert_exporter": "python",
   "pygments_lexer": "ipython3",
   "version": "3.8.3"
  }
 },
 "nbformat": 4,
 "nbformat_minor": 4
}
