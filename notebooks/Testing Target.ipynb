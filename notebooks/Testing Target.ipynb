{
 "cells": [
  {
   "cell_type": "code",
   "execution_count": 1,
   "metadata": {},
   "outputs": [
    {
     "data": {
      "text/plain": [
       "'/Users/gks/Dropbox/mypylib/notebooks/GIT'"
      ]
     },
     "execution_count": 1,
     "metadata": {},
     "output_type": "execute_result"
    }
   ],
   "source": [
    "import sys\n",
    "#sys.path.pop(0)"
   ]
  },
  {
   "cell_type": "code",
   "execution_count": 2,
   "metadata": {},
   "outputs": [
    {
     "name": "stdout",
     "output_type": "stream",
     "text": [
      "AIRTOVAC (TRUE for HARPS, FALSE TRUE HPF):  False\n"
     ]
    }
   ],
   "source": [
    "from hpfspec import target\n",
    "import astropy.time"
   ]
  },
  {
   "cell_type": "markdown",
   "metadata": {},
   "source": [
    "# Working with an RV target "
   ]
  },
  {
   "cell_type": "code",
   "execution_count": 3,
   "metadata": {},
   "outputs": [
    {
     "name": "stdout",
     "output_type": "stream",
     "text": [
      "Reading from file /Users/gks/opt/anaconda2/envs/py36/lib/python3.6/site-packages/hpfspec-0.1.0-py3.6.egg/hpfspec/data/target_files/GJ 699.config\n"
     ]
    }
   ],
   "source": [
    "T = target.Target(\"GJ 699\")"
   ]
  },
  {
   "cell_type": "code",
   "execution_count": 4,
   "metadata": {},
   "outputs": [
    {
     "data": {
      "text/plain": [
       "GJ 699, ra=269.4521, dec=4.6934, pmra=-802.803, pmdec=10362.542, rv=-110.3530, px=547.4506, epoch=2451545.0"
      ]
     },
     "execution_count": 4,
     "metadata": {},
     "output_type": "execute_result"
    }
   ],
   "source": [
    "T"
   ]
  },
  {
   "cell_type": "code",
   "execution_count": 5,
   "metadata": {},
   "outputs": [
    {
     "name": "stdout",
     "output_type": "stream",
     "text": [
      "GJ 699, ra=269.4521, dec=4.6934, pmra=-802.803, pmdec=10362.542, rv=-110.3530, px=547.4506, epoch=2451545.0\n"
     ]
    }
   ],
   "source": [
    "print(T)"
   ]
  },
  {
   "cell_type": "markdown",
   "metadata": {},
   "source": [
    "# Calculate Barycentric Velocities "
   ]
  },
  {
   "cell_type": "code",
   "execution_count": 6,
   "metadata": {},
   "outputs": [
    {
     "name": "stdout",
     "output_type": "stream",
     "text": [
      "WARNING: LEAP UPDATE=FALSE\n"
     ]
    },
    {
     "data": {
      "text/plain": [
       "(2458764.499464502, -25.378302558132138)"
      ]
     },
     "execution_count": 6,
     "metadata": {},
     "output_type": "execute_result"
    }
   ],
   "source": [
    "t = astropy.time.Time(\"2019-10-08 00:00:00.0\",format=\"iso\").jd\n",
    "T.calc_barycentric_velocity(t,obsname='McDonald Observatory')"
   ]
  },
  {
   "cell_type": "code",
   "execution_count": null,
   "metadata": {},
   "outputs": [],
   "source": []
  }
 ],
 "metadata": {
  "kernelspec": {
   "display_name": "Python 3",
   "language": "python",
   "name": "python3"
  },
  "language_info": {
   "codemirror_mode": {
    "name": "ipython",
    "version": 3
   },
   "file_extension": ".py",
   "mimetype": "text/x-python",
   "name": "python",
   "nbconvert_exporter": "python",
   "pygments_lexer": "ipython3",
   "version": "3.6.9"
  }
 },
 "nbformat": 4,
 "nbformat_minor": 2
}
