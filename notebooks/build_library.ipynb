{
 "cells": [
  {
   "cell_type": "code",
   "execution_count": 34,
   "metadata": {
    "ExecuteTime": {
     "end_time": "2024-03-11T22:57:15.272063Z",
     "start_time": "2024-03-11T22:57:14.494397Z"
    }
   },
   "outputs": [
    {
     "name": "stdout",
     "output_type": "stream",
     "text": [
      "Please join our Google Group to keep abreast of the latest versions and bug fixes - https://groups.google.com/g/barycorrpy\n",
      "***********SUCCESS**************\n",
      "All barycentric correction velocities,  and time stamp conversions match expected values.\n"
     ]
    }
   ],
   "source": [
    "from __future__ import print_function\n",
    "import astropy\n",
    "from glob import glob\n",
    "from astropy.table import Table\n",
    "import os\n",
    "import matplotlib.pyplot as plt\n",
    "import pandas as pd\n",
    "import numpy as np\n",
    "#sys.path.pop(0)\n",
    "from astropy.io import fits\n",
    "import shutil\n",
    "import barycorrpy\n",
    "barycorrpy.__version__ #This tutorial assumes v0.4.4\n",
    "from barycorrpy import sample_script \n",
    "results = sample_script.run_sample() \n",
    "import neidspec\n",
    "\n",
    "%matplotlib inline"
   ]
  },
  {
   "cell_type": "markdown",
   "metadata": {},
   "source": [
    "# First, lets make sure that barycorrpy is working"
   ]
  },
  {
   "cell_type": "markdown",
   "metadata": {},
   "source": [
    "# Import our package"
   ]
  },
  {
   "cell_type": "code",
   "outputs": [
    {
     "data": {
      "text/plain": "int"
     },
     "execution_count": 2,
     "metadata": {},
     "output_type": "execute_result"
    }
   ],
   "source": [
    "lib = Table.read('/home/tehan/PycharmProjects/neidspec/neidspec/data/neidmasterfile/SpecMatchNEIDlt4200K.csv')\n",
    "type(lib['TIC'].tolist()[0])"
   ],
   "metadata": {
    "collapsed": false,
    "ExecuteTime": {
     "end_time": "2024-03-11T22:16:10.312785Z",
     "start_time": "2024-03-11T22:16:10.306914Z"
    }
   },
   "execution_count": 2
  },
  {
   "cell_type": "code",
   "outputs": [],
   "source": [
    "files = glob('/home/tehan/Documents/NeidSpecMatch/FITS/*.fits')\n",
    "# hdul = fits.open('/home/tehan/Documents/NeidSpecMatch/library/neidL2_20240111T054653.fits')\n",
    "hdul = fits.open(files[0])"
   ],
   "metadata": {
    "collapsed": false,
    "ExecuteTime": {
     "end_time": "2024-03-11T22:16:10.318506Z",
     "start_time": "2024-03-11T22:16:10.313556Z"
    }
   },
   "execution_count": 3
  },
  {
   "cell_type": "code",
   "outputs": [
    {
     "ename": "FileNotFoundError",
     "evalue": "[Errno 2] No such file or directory: '/home/tehan/Documents/NeidSpecMatch/library/neidL2_20240111T054653.fits'",
     "output_type": "error",
     "traceback": [
      "\u001B[0;31m---------------------------------------------------------------------------\u001B[0m",
      "\u001B[0;31mFileNotFoundError\u001B[0m                         Traceback (most recent call last)",
      "Cell \u001B[0;32mIn[4], line 1\u001B[0m\n\u001B[0;32m----> 1\u001B[0m N \u001B[38;5;241m=\u001B[39m \u001B[43mneidspec\u001B[49m\u001B[38;5;241;43m.\u001B[39;49m\u001B[43mNEIDSpectrum\u001B[49m\u001B[43m(\u001B[49m\u001B[38;5;124;43m'\u001B[39;49m\u001B[38;5;124;43m/home/tehan/Documents/NeidSpecMatch/library/neidL2_20240111T054653.fits\u001B[39;49m\u001B[38;5;124;43m'\u001B[39;49m\u001B[43m,\u001B[49m\u001B[43mccf_redshift\u001B[49m\u001B[38;5;241;43m=\u001B[39;49m\u001B[38;5;28;43;01mTrue\u001B[39;49;00m\u001B[43m)\u001B[49m\n",
      "File \u001B[0;32m~/PycharmProjects/neidspec/neidspec/neidspec.py:56\u001B[0m, in \u001B[0;36mNEIDSpectrum.__init__\u001B[0;34m(self, filename, targetname, deblaze, tell_err_factor, ccf_redshift, sky_err_factor, sky_scaling_factor, verbose, setup_he10830, rv, degrade_snr)\u001B[0m\n\u001B[1;32m     53\u001B[0m \u001B[38;5;28mself\u001B[39m\u001B[38;5;241m.\u001B[39mend \u001B[38;5;241m=\u001B[39m \u001B[38;5;241m104\u001B[39m \u001B[38;5;66;03m#-4\u001B[39;00m\n\u001B[1;32m     55\u001B[0m \u001B[38;5;66;03m# Read science frame\u001B[39;00m\n\u001B[0;32m---> 56\u001B[0m \u001B[38;5;28mself\u001B[39m\u001B[38;5;241m.\u001B[39mhdu \u001B[38;5;241m=\u001B[39m \u001B[43mastropy\u001B[49m\u001B[38;5;241;43m.\u001B[39;49m\u001B[43mio\u001B[49m\u001B[38;5;241;43m.\u001B[39;49m\u001B[43mfits\u001B[49m\u001B[38;5;241;43m.\u001B[39;49m\u001B[43mopen\u001B[49m\u001B[43m(\u001B[49m\u001B[43mfilename\u001B[49m\u001B[43m)\u001B[49m\n\u001B[1;32m     57\u001B[0m \u001B[38;5;28mself\u001B[39m\u001B[38;5;241m.\u001B[39mheader \u001B[38;5;241m=\u001B[39m \u001B[38;5;28mself\u001B[39m\u001B[38;5;241m.\u001B[39mhdu[\u001B[38;5;241m0\u001B[39m]\u001B[38;5;241m.\u001B[39mheader\n\u001B[1;32m     58\u001B[0m \u001B[38;5;28mself\u001B[39m\u001B[38;5;241m.\u001B[39mexptime \u001B[38;5;241m=\u001B[39m \u001B[38;5;28mself\u001B[39m\u001B[38;5;241m.\u001B[39mheader[\u001B[38;5;124m\"\u001B[39m\u001B[38;5;124mEXPTIME\u001B[39m\u001B[38;5;124m\"\u001B[39m]\n",
      "File \u001B[0;32m~/anaconda3/envs/neidspecmatch/lib/python3.8/site-packages/astropy/io/fits/hdu/hdulist.py:214\u001B[0m, in \u001B[0;36mfitsopen\u001B[0;34m(name, mode, memmap, save_backup, cache, lazy_load_hdus, ignore_missing_simple, use_fsspec, fsspec_kwargs, **kwargs)\u001B[0m\n\u001B[1;32m    211\u001B[0m \u001B[38;5;28;01mif\u001B[39;00m \u001B[38;5;129;01mnot\u001B[39;00m name:\n\u001B[1;32m    212\u001B[0m     \u001B[38;5;28;01mraise\u001B[39;00m \u001B[38;5;167;01mValueError\u001B[39;00m(\u001B[38;5;124mf\u001B[39m\u001B[38;5;124m\"\u001B[39m\u001B[38;5;124mEmpty filename: \u001B[39m\u001B[38;5;132;01m{\u001B[39;00mname\u001B[38;5;132;01m!r}\u001B[39;00m\u001B[38;5;124m\"\u001B[39m)\n\u001B[0;32m--> 214\u001B[0m \u001B[38;5;28;01mreturn\u001B[39;00m \u001B[43mHDUList\u001B[49m\u001B[38;5;241;43m.\u001B[39;49m\u001B[43mfromfile\u001B[49m\u001B[43m(\u001B[49m\n\u001B[1;32m    215\u001B[0m \u001B[43m    \u001B[49m\u001B[43mname\u001B[49m\u001B[43m,\u001B[49m\n\u001B[1;32m    216\u001B[0m \u001B[43m    \u001B[49m\u001B[43mmode\u001B[49m\u001B[43m,\u001B[49m\n\u001B[1;32m    217\u001B[0m \u001B[43m    \u001B[49m\u001B[43mmemmap\u001B[49m\u001B[43m,\u001B[49m\n\u001B[1;32m    218\u001B[0m \u001B[43m    \u001B[49m\u001B[43msave_backup\u001B[49m\u001B[43m,\u001B[49m\n\u001B[1;32m    219\u001B[0m \u001B[43m    \u001B[49m\u001B[43mcache\u001B[49m\u001B[43m,\u001B[49m\n\u001B[1;32m    220\u001B[0m \u001B[43m    \u001B[49m\u001B[43mlazy_load_hdus\u001B[49m\u001B[43m,\u001B[49m\n\u001B[1;32m    221\u001B[0m \u001B[43m    \u001B[49m\u001B[43mignore_missing_simple\u001B[49m\u001B[43m,\u001B[49m\n\u001B[1;32m    222\u001B[0m \u001B[43m    \u001B[49m\u001B[43muse_fsspec\u001B[49m\u001B[38;5;241;43m=\u001B[39;49m\u001B[43muse_fsspec\u001B[49m\u001B[43m,\u001B[49m\n\u001B[1;32m    223\u001B[0m \u001B[43m    \u001B[49m\u001B[43mfsspec_kwargs\u001B[49m\u001B[38;5;241;43m=\u001B[39;49m\u001B[43mfsspec_kwargs\u001B[49m\u001B[43m,\u001B[49m\n\u001B[1;32m    224\u001B[0m \u001B[43m    \u001B[49m\u001B[38;5;241;43m*\u001B[39;49m\u001B[38;5;241;43m*\u001B[39;49m\u001B[43mkwargs\u001B[49m\u001B[43m,\u001B[49m\n\u001B[1;32m    225\u001B[0m \u001B[43m\u001B[49m\u001B[43m)\u001B[49m\n",
      "File \u001B[0;32m~/anaconda3/envs/neidspecmatch/lib/python3.8/site-packages/astropy/io/fits/hdu/hdulist.py:482\u001B[0m, in \u001B[0;36mHDUList.fromfile\u001B[0;34m(cls, fileobj, mode, memmap, save_backup, cache, lazy_load_hdus, ignore_missing_simple, **kwargs)\u001B[0m\n\u001B[1;32m    462\u001B[0m \u001B[38;5;129m@classmethod\u001B[39m\n\u001B[1;32m    463\u001B[0m \u001B[38;5;28;01mdef\u001B[39;00m \u001B[38;5;21mfromfile\u001B[39m(\n\u001B[1;32m    464\u001B[0m     \u001B[38;5;28mcls\u001B[39m,\n\u001B[0;32m   (...)\u001B[0m\n\u001B[1;32m    472\u001B[0m     \u001B[38;5;241m*\u001B[39m\u001B[38;5;241m*\u001B[39mkwargs,\n\u001B[1;32m    473\u001B[0m ):\n\u001B[1;32m    474\u001B[0m \u001B[38;5;250m    \u001B[39m\u001B[38;5;124;03m\"\"\"\u001B[39;00m\n\u001B[1;32m    475\u001B[0m \u001B[38;5;124;03m    Creates an `HDUList` instance from a file-like object.\u001B[39;00m\n\u001B[1;32m    476\u001B[0m \n\u001B[0;32m   (...)\u001B[0m\n\u001B[1;32m    479\u001B[0m \u001B[38;5;124;03m    documentation for details of the parameters accepted by this method).\u001B[39;00m\n\u001B[1;32m    480\u001B[0m \u001B[38;5;124;03m    \"\"\"\u001B[39;00m\n\u001B[0;32m--> 482\u001B[0m     \u001B[38;5;28;01mreturn\u001B[39;00m \u001B[38;5;28;43mcls\u001B[39;49m\u001B[38;5;241;43m.\u001B[39;49m\u001B[43m_readfrom\u001B[49m\u001B[43m(\u001B[49m\n\u001B[1;32m    483\u001B[0m \u001B[43m        \u001B[49m\u001B[43mfileobj\u001B[49m\u001B[38;5;241;43m=\u001B[39;49m\u001B[43mfileobj\u001B[49m\u001B[43m,\u001B[49m\n\u001B[1;32m    484\u001B[0m \u001B[43m        \u001B[49m\u001B[43mmode\u001B[49m\u001B[38;5;241;43m=\u001B[39;49m\u001B[43mmode\u001B[49m\u001B[43m,\u001B[49m\n\u001B[1;32m    485\u001B[0m \u001B[43m        \u001B[49m\u001B[43mmemmap\u001B[49m\u001B[38;5;241;43m=\u001B[39;49m\u001B[43mmemmap\u001B[49m\u001B[43m,\u001B[49m\n\u001B[1;32m    486\u001B[0m \u001B[43m        \u001B[49m\u001B[43msave_backup\u001B[49m\u001B[38;5;241;43m=\u001B[39;49m\u001B[43msave_backup\u001B[49m\u001B[43m,\u001B[49m\n\u001B[1;32m    487\u001B[0m \u001B[43m        \u001B[49m\u001B[43mcache\u001B[49m\u001B[38;5;241;43m=\u001B[39;49m\u001B[43mcache\u001B[49m\u001B[43m,\u001B[49m\n\u001B[1;32m    488\u001B[0m \u001B[43m        \u001B[49m\u001B[43mignore_missing_simple\u001B[49m\u001B[38;5;241;43m=\u001B[39;49m\u001B[43mignore_missing_simple\u001B[49m\u001B[43m,\u001B[49m\n\u001B[1;32m    489\u001B[0m \u001B[43m        \u001B[49m\u001B[43mlazy_load_hdus\u001B[49m\u001B[38;5;241;43m=\u001B[39;49m\u001B[43mlazy_load_hdus\u001B[49m\u001B[43m,\u001B[49m\n\u001B[1;32m    490\u001B[0m \u001B[43m        \u001B[49m\u001B[38;5;241;43m*\u001B[39;49m\u001B[38;5;241;43m*\u001B[39;49m\u001B[43mkwargs\u001B[49m\u001B[43m,\u001B[49m\n\u001B[1;32m    491\u001B[0m \u001B[43m    \u001B[49m\u001B[43m)\u001B[49m\n",
      "File \u001B[0;32m~/anaconda3/envs/neidspecmatch/lib/python3.8/site-packages/astropy/io/fits/hdu/hdulist.py:1170\u001B[0m, in \u001B[0;36mHDUList._readfrom\u001B[0;34m(cls, fileobj, data, mode, memmap, cache, lazy_load_hdus, ignore_missing_simple, use_fsspec, fsspec_kwargs, **kwargs)\u001B[0m\n\u001B[1;32m   1167\u001B[0m \u001B[38;5;28;01mif\u001B[39;00m fileobj \u001B[38;5;129;01mis\u001B[39;00m \u001B[38;5;129;01mnot\u001B[39;00m \u001B[38;5;28;01mNone\u001B[39;00m:\n\u001B[1;32m   1168\u001B[0m     \u001B[38;5;28;01mif\u001B[39;00m \u001B[38;5;129;01mnot\u001B[39;00m \u001B[38;5;28misinstance\u001B[39m(fileobj, _File):\n\u001B[1;32m   1169\u001B[0m         \u001B[38;5;66;03m# instantiate a FITS file object (ffo)\u001B[39;00m\n\u001B[0;32m-> 1170\u001B[0m         fileobj \u001B[38;5;241m=\u001B[39m \u001B[43m_File\u001B[49m\u001B[43m(\u001B[49m\n\u001B[1;32m   1171\u001B[0m \u001B[43m            \u001B[49m\u001B[43mfileobj\u001B[49m\u001B[43m,\u001B[49m\n\u001B[1;32m   1172\u001B[0m \u001B[43m            \u001B[49m\u001B[43mmode\u001B[49m\u001B[38;5;241;43m=\u001B[39;49m\u001B[43mmode\u001B[49m\u001B[43m,\u001B[49m\n\u001B[1;32m   1173\u001B[0m \u001B[43m            \u001B[49m\u001B[43mmemmap\u001B[49m\u001B[38;5;241;43m=\u001B[39;49m\u001B[43mmemmap\u001B[49m\u001B[43m,\u001B[49m\n\u001B[1;32m   1174\u001B[0m \u001B[43m            \u001B[49m\u001B[43mcache\u001B[49m\u001B[38;5;241;43m=\u001B[39;49m\u001B[43mcache\u001B[49m\u001B[43m,\u001B[49m\n\u001B[1;32m   1175\u001B[0m \u001B[43m            \u001B[49m\u001B[43muse_fsspec\u001B[49m\u001B[38;5;241;43m=\u001B[39;49m\u001B[43muse_fsspec\u001B[49m\u001B[43m,\u001B[49m\n\u001B[1;32m   1176\u001B[0m \u001B[43m            \u001B[49m\u001B[43mfsspec_kwargs\u001B[49m\u001B[38;5;241;43m=\u001B[39;49m\u001B[43mfsspec_kwargs\u001B[49m\u001B[43m,\u001B[49m\n\u001B[1;32m   1177\u001B[0m \u001B[43m        \u001B[49m\u001B[43m)\u001B[49m\n\u001B[1;32m   1178\u001B[0m     \u001B[38;5;66;03m# The Astropy mode is determined by the _File initializer if the\u001B[39;00m\n\u001B[1;32m   1179\u001B[0m     \u001B[38;5;66;03m# supplied mode was None\u001B[39;00m\n\u001B[1;32m   1180\u001B[0m     mode \u001B[38;5;241m=\u001B[39m fileobj\u001B[38;5;241m.\u001B[39mmode\n",
      "File \u001B[0;32m~/anaconda3/envs/neidspecmatch/lib/python3.8/site-packages/astropy/io/fits/file.py:218\u001B[0m, in \u001B[0;36m_File.__init__\u001B[0;34m(self, fileobj, mode, memmap, overwrite, cache, use_fsspec, fsspec_kwargs)\u001B[0m\n\u001B[1;32m    216\u001B[0m     \u001B[38;5;28mself\u001B[39m\u001B[38;5;241m.\u001B[39m_open_fileobj(fileobj, mode, overwrite)\n\u001B[1;32m    217\u001B[0m \u001B[38;5;28;01melif\u001B[39;00m \u001B[38;5;28misinstance\u001B[39m(fileobj, (\u001B[38;5;28mstr\u001B[39m, \u001B[38;5;28mbytes\u001B[39m)):\n\u001B[0;32m--> 218\u001B[0m     \u001B[38;5;28;43mself\u001B[39;49m\u001B[38;5;241;43m.\u001B[39;49m\u001B[43m_open_filename\u001B[49m\u001B[43m(\u001B[49m\u001B[43mfileobj\u001B[49m\u001B[43m,\u001B[49m\u001B[43m \u001B[49m\u001B[43mmode\u001B[49m\u001B[43m,\u001B[49m\u001B[43m \u001B[49m\u001B[43moverwrite\u001B[49m\u001B[43m)\u001B[49m\n\u001B[1;32m    219\u001B[0m \u001B[38;5;28;01melse\u001B[39;00m:\n\u001B[1;32m    220\u001B[0m     \u001B[38;5;28mself\u001B[39m\u001B[38;5;241m.\u001B[39m_open_filelike(fileobj, mode, overwrite)\n",
      "File \u001B[0;32m~/anaconda3/envs/neidspecmatch/lib/python3.8/site-packages/astropy/io/fits/file.py:636\u001B[0m, in \u001B[0;36m_File._open_filename\u001B[0;34m(self, filename, mode, overwrite)\u001B[0m\n\u001B[1;32m    633\u001B[0m ext \u001B[38;5;241m=\u001B[39m os\u001B[38;5;241m.\u001B[39mpath\u001B[38;5;241m.\u001B[39msplitext(\u001B[38;5;28mself\u001B[39m\u001B[38;5;241m.\u001B[39mname)[\u001B[38;5;241m1\u001B[39m]\n\u001B[1;32m    635\u001B[0m \u001B[38;5;28;01mif\u001B[39;00m \u001B[38;5;129;01mnot\u001B[39;00m \u001B[38;5;28mself\u001B[39m\u001B[38;5;241m.\u001B[39m_try_read_compressed(\u001B[38;5;28mself\u001B[39m\u001B[38;5;241m.\u001B[39mname, magic, mode, ext\u001B[38;5;241m=\u001B[39mext):\n\u001B[0;32m--> 636\u001B[0m     \u001B[38;5;28mself\u001B[39m\u001B[38;5;241m.\u001B[39m_file \u001B[38;5;241m=\u001B[39m \u001B[38;5;28;43mopen\u001B[39;49m\u001B[43m(\u001B[49m\u001B[38;5;28;43mself\u001B[39;49m\u001B[38;5;241;43m.\u001B[39;49m\u001B[43mname\u001B[49m\u001B[43m,\u001B[49m\u001B[43m \u001B[49m\u001B[43mIO_FITS_MODES\u001B[49m\u001B[43m[\u001B[49m\u001B[43mmode\u001B[49m\u001B[43m]\u001B[49m\u001B[43m)\u001B[49m\n\u001B[1;32m    637\u001B[0m     \u001B[38;5;28mself\u001B[39m\u001B[38;5;241m.\u001B[39mclose_on_error \u001B[38;5;241m=\u001B[39m \u001B[38;5;28;01mTrue\u001B[39;00m\n\u001B[1;32m    639\u001B[0m \u001B[38;5;66;03m# Make certain we're back at the beginning of the file\u001B[39;00m\n\u001B[1;32m    640\u001B[0m \u001B[38;5;66;03m# BZ2File does not support seek when the file is open for writing, but\u001B[39;00m\n\u001B[1;32m    641\u001B[0m \u001B[38;5;66;03m# when opening a file for write, bz2.BZ2File always truncates anyway.\u001B[39;00m\n",
      "\u001B[0;31mFileNotFoundError\u001B[0m: [Errno 2] No such file or directory: '/home/tehan/Documents/NeidSpecMatch/library/neidL2_20240111T054653.fits'"
     ]
    }
   ],
   "source": [
    "N = neidspec.NEIDSpectrum('/home/tehan/Documents/NeidSpecMatch/library/neidL2_20240111T054653.fits',ccf_redshift=True)"
   ],
   "metadata": {
    "collapsed": false,
    "ExecuteTime": {
     "end_time": "2024-03-11T22:16:10.727689Z",
     "start_time": "2024-03-11T22:16:10.319227Z"
    }
   },
   "execution_count": 4
  },
  {
   "cell_type": "markdown",
   "source": [],
   "metadata": {
    "collapsed": false
   }
  },
  {
   "cell_type": "code",
   "execution_count": 18,
   "metadata": {
    "ExecuteTime": {
     "end_time": "2024-03-11T22:38:24.054722Z",
     "start_time": "2024-03-11T22:38:23.950117Z"
    }
   },
   "outputs": [
    {
     "name": "stdout",
     "output_type": "stream",
     "text": [
      "TIC 384491142\n",
      "TIC 384491142\n",
      "TIC 24250831\n",
      "TIC 24250831\n",
      "TIC 278962913\n",
      "TIC 278962913\n",
      "TIC 369534824\n",
      "TIC 369534824\n",
      "TIC 325554331\n",
      "TIC 325554331\n",
      "TIC 239332587\n",
      "TIC 239332587\n",
      "TIC 115869504\n",
      "TIC 115869504\n",
      "HD 165222\n",
      "TIC 236743275\n",
      "TIC 236743275\n",
      "TIC 53580461\n",
      "TIC 53580461\n",
      "TIC 277888583\n",
      "TIC 277888583\n",
      "TIC 252803603\n",
      "TIC 252803603\n",
      "HD 265866\n",
      "TIC 294401924\n",
      "TIC 294401924\n",
      "TIC 105618383\n",
      "TIC 105618383\n",
      "TIC 318686860\n",
      "TIC 318686860\n",
      "TIC 307646256\n",
      "TIC 307646256\n",
      "HD 285968\n",
      "Gaia DR2 76868614540049408\n",
      "TIC 239332587\n",
      "TIC 239332587\n",
      "TIC 328860504\n",
      "TIC 328860504\n",
      "HD 157881\n",
      "TIC 230241767\n",
      "TIC 230241767\n",
      "TIC 455139555\n",
      "TIC 455139555\n",
      "HD 199305\n",
      "HD 245409\n",
      "TIC 239332587\n",
      "TIC 239332587\n",
      "HD 88230\n",
      "HD 275122\n",
      "HD 28343\n",
      "TIC 239332587\n",
      "TIC 239332587\n",
      "TIC 239332587\n",
      "TIC 239332587\n",
      "TIC 409527090\n",
      "TIC 409527090\n",
      "TIC 138819293\n",
      "TIC 138819293\n",
      "TIC 450298091\n",
      "TIC 450298091\n",
      "TIC 239332587\n",
      "TIC 239332587\n",
      "TIC 436856183\n",
      "TIC 436856183\n",
      "TIC 36853511\n",
      "TIC 36853511\n",
      "TIC 404519959\n",
      "TIC 404519959\n",
      "TIC 413948621\n",
      "TIC 413948621\n",
      "TIC 409527090\n",
      "TIC 409527090\n",
      "TIC 239332587\n",
      "TIC 239332587\n",
      "HD 232979\n",
      "TIC 268804174\n",
      "TIC 268804174\n",
      "TIC 365159477\n",
      "TIC 365159477\n",
      "HD 355784\n",
      "HD 355784\n",
      "HD 180617\n",
      "TIC 207492082\n",
      "TIC 207492082\n",
      "TIC 239332587\n",
      "TIC 239332587\n",
      "36 1\n"
     ]
    }
   ],
   "source": [
    "files = glob('/home/tehan/PycharmProjects/neidspecmatch/library/20240301_specmatch_nir/FITS/*.fits')\n",
    "lib_files = []\n",
    "tics = []\n",
    "tic=0\n",
    "hd=0\n",
    "for i in range(len(files)):\n",
    "    hdul = fits.open(files[i])\n",
    "    print(hdul[0].header['OBJECT'])\n",
    "    # N = neidspec.NEIDSpectrum(files[i],ccf_redshift=True)\n",
    "    if hdul[0].header['OBJECT'][:3] == 'TIC':\n",
    "        if int(hdul[0].header['OBJECT'][4:]) in lib['TIC'].tolist():\n",
    "            tic+=1\n",
    "            print(hdul[0].header['OBJECT'])\n",
    "            lib_files.append(files[i])\n",
    "            tics.append(int(hdul[0].header['OBJECT'][4:]))\n",
    "    elif hdul[0].header['OBJECT'][:2] == 'HD':\n",
    "        if f\"HD{hdul[0].header['OBJECT'][3:]}\" in lib['source_name'].tolist():\n",
    "            hd+=1\n",
    "            print(hdul[0].header['OBJECT'])\n",
    "            lib_files.append(files[i])\n",
    "# print(len(lib_files))\n",
    "# print(len(set(lib_files)))\n",
    "print(tic,hd)\n",
    "# for file_name in lib_files:\n",
    "#     shutil.copy(file_name, '/home/tehan/Documents/NeidSpecMatch/FITS/')"
   ]
  },
  {
   "cell_type": "code",
   "outputs": [
    {
     "name": "stdout",
     "output_type": "stream",
     "text": [
      "[0, 0, 0, 0, 0, 0, 0, 1, 0, 0, 1, 0, 1, 0, 0, 0, 0, 1, 1, 0, 0, 0, 0, 1, 0, 0, 1, 0, 0, 0, 1, 0, 0, 0, 0, 0, 1, 1, 0, 0, 0, 0, 0, 0, 1, 0, 0, 1, 0, 1, 0, 0, 1, 1, 1, 1, 0, 1, 0, 0, 0, 1, 0, 0, 1, 1, 0, 0, 1, 0, 0, 0, 0, 0, 1, 1, 1, 1, 1, 0, 1, 0, 0, 0, 0, 0]\n"
     ]
    }
   ],
   "source": [
    "have_spec=[]\n",
    "for i in range(len(lib['TIC'].tolist())-2):\n",
    "    if int(lib['TIC'].tolist()[i]) in tics:\n",
    "        have_spec.append(1)\n",
    "    else:\n",
    "        have_spec.append(0)\n",
    "print(have_spec)\n",
    "lib = lib[:-2]\n",
    "lib['have_spectra'] = have_spec"
   ],
   "metadata": {
    "collapsed": false,
    "ExecuteTime": {
     "end_time": "2024-03-11T21:18:35.845786Z",
     "start_time": "2024-03-11T21:18:35.840991Z"
    }
   },
   "execution_count": 51
  },
  {
   "cell_type": "code",
   "outputs": [],
   "source": [
    "lib.write('SpecMatchNEIDlt4200K_.csv', format='csv')"
   ],
   "metadata": {
    "collapsed": false,
    "ExecuteTime": {
     "end_time": "2024-03-11T21:19:26.295436Z",
     "start_time": "2024-03-11T21:19:26.283772Z"
    }
   },
   "execution_count": 53
  },
  {
   "cell_type": "code",
   "outputs": [],
   "source": [
    "libcsv = Table.read('/home/tehan/PycharmProjects/neidspecmatch/library/20240301_specmatch_nir/20210808_spec_mann_w_files_qual1_pass3.csv')\n",
    "libcsv['qprog'] = libcsv['qprog'].astype('<U15')\n",
    "libcsv['OBJECT_ID'] = libcsv['OBJECT_ID'].astype('<U30')"
   ],
   "metadata": {
    "collapsed": false,
    "ExecuteTime": {
     "end_time": "2024-03-12T00:18:54.989764Z",
     "start_time": "2024-03-12T00:18:54.984712Z"
    }
   },
   "execution_count": 60
  },
  {
   "cell_type": "code",
   "outputs": [
    {
     "name": "stdout",
     "output_type": "stream",
     "text": [
      "TIC 294401924\n",
      "TIC 413948621\n",
      "TIC 268804174\n"
     ]
    }
   ],
   "source": [
    "files = glob('/home/tehan/PycharmProjects/neidspecmatch/library/20240301_specmatch_nir/FITS/*.fits')\n",
    "neidlibcsv=Table(names=libcsv.colnames, dtype=libcsv.dtype)\n",
    "length = 0\n",
    "for i in range(len(files)):\n",
    "    hdul = fits.open(files[i])\n",
    "    for j in range(len(libcsv)):\n",
    "        if hdul[0].header['OBJECT'].split(' ')[-1] in libcsv['simbadnames_x'].tolist()[j]:\n",
    "            row = libcsv[j]\n",
    "            row['OBJECT_ID'] = hdul[0].header['OBJECT']\n",
    "            row['filename'] = f'.{files[i][41:]}'\n",
    "            row['basenames'] = os.path.basename(files[i])\n",
    "            row['exptime'] = hdul[0].header['EXPTIME']\n",
    "            row['sn18'] = hdul[0].header['EXTSNR']\n",
    "            row['qprog'] = hdul[0].header['PROGRAM']\n",
    "            neidlibcsv.add_row(row)\n",
    "    length += 1\n",
    "    if len(neidlibcsv)<length:\n",
    "        print(hdul[0].header['OBJECT'])\n",
    "        length = len(neidlibcsv)\n",
    "neidlibcsv.rename_column('sn18', 'EXTSNR')\n",
    "neidlibcsv['qprog']\n",
    "neidlibcsv.write('20240301_46stars.csv', format='csv', overwrite=True)"
   ],
   "metadata": {
    "collapsed": false,
    "ExecuteTime": {
     "end_time": "2024-03-12T00:18:55.888813Z",
     "start_time": "2024-03-12T00:18:55.230182Z"
    }
   },
   "execution_count": 61
  },
  {
   "cell_type": "markdown",
   "metadata": {},
   "source": [
    "### This creates a 'Target' class instance within our object\n",
    "\n",
    "- The config file for the object is by default saved to \"../data/target_files/\"\n",
    "- If that file already exist, then it is read in from disk. If it does not exist, it queries Simbad and creates the file\n",
    "- This way you can change the values within the file if it is already created"
   ]
  },
  {
   "cell_type": "markdown",
   "metadata": {},
   "source": [
    "## Lets plot the spectrum "
   ]
  },
  {
   "cell_type": "code",
   "execution_count": null,
   "metadata": {},
   "outputs": [],
   "source": [
    "N.plot_order(102,deblazed=False)"
   ]
  },
  {
   "cell_type": "code",
   "execution_count": null,
   "metadata": {},
   "outputs": [],
   "source": [
    "N.plot_order(102,deblazed=True)"
   ]
  },
  {
   "cell_type": "code",
   "execution_count": null,
   "metadata": {},
   "outputs": [],
   "source": [
    "N.plot_order(101,deblazed=True)"
   ]
  },
  {
   "cell_type": "code",
   "execution_count": null,
   "metadata": {},
   "outputs": [],
   "source": [
    "#We could also this the following way using the handy wavelength and flux attributes\n",
    "o = 102\n",
    "o -= 10\n",
    "\n",
    "# Blazed\n",
    "fig, ax = plt.subplots()\n",
    "ax.plot(N.w_shifted[o],N.f[o])\n",
    "ax.set_title(\"Blazed spectrum shifted to stellar restframe\\n(corrected for barycentric and absolute RV motion)\")\n",
    "\n",
    "# Deblazed\n",
    "fig, ax = plt.subplots()\n",
    "ax.plot(N.w_shifted[o],N.f_debl[o])\n",
    "ax.set_title(\"Deblazed spectrum shifted to stellar restframe\\n(corrected for barycentric and absolute RV motion)\")\n"
   ]
  },
  {
   "cell_type": "code",
   "execution_count": null,
   "metadata": {},
   "outputs": [],
   "source": [
    "# Other attributes are:\n",
    "print(N.w_shifted.shape) # shifted wavelength\n",
    "print(N.w.shape)         # non-shifted original wavelength\n",
    "print(N.f.shape)         # non-deblazed science flux (sky-subtracted)\n",
    "print(N.f_debl.shape)    # deblazed science flux (sky-subtracted)\n",
    "print(N.f_sci.shape)     # Science flux (not sky-subtracted)\n",
    "print(N.e.shape)         # error for deblazed sky-subtracted science flux\n",
    "print(N.object)          # Object\n",
    "print(N.bjd)             # BJD_TDB midpoint\n",
    "print(N.sn55)            # SNR for order 55\n",
    "print(N.berv)            # barycentric correction in km/s"
   ]
  },
  {
   "cell_type": "markdown",
   "metadata": {},
   "source": [
    "# CCFs"
   ]
  },
  {
   "cell_type": "code",
   "execution_count": null,
   "metadata": {},
   "outputs": [],
   "source": [
    "# Lets calculate fast ccfs for well-behaved orders using the crosscorr package\n",
    "v = np.linspace(-125.,125.,1501)\n",
    "orders = [55,56,102]\n",
    "ccf = N.calculate_ccf_for_orders(v,orders=orders,plot=True)"
   ]
  },
  {
   "cell_type": "code",
   "execution_count": null,
   "metadata": {},
   "outputs": [],
   "source": [
    "fig, ax = plt.subplots()\n",
    "o = 55\n",
    "ax.plot(v,ccf[o - 10]/np.nanmedian(ccf[o - 10]))"
   ]
  },
  {
   "cell_type": "code",
   "execution_count": null,
   "metadata": {
    "scrolled": false
   },
   "outputs": [],
   "source": [
    "# Lets calculate fast ccfs for well-behaved orders using the crosscorr package\n",
    "v = np.linspace(-125., 125., 1501)\n",
    "orders = [55, 56, 102]\n",
    "ccf = N.calculate_ccf_for_orders(v, orders=orders, plot=True)# Calculates on barycentric shifted (not abs RV shifted) and undeblazed version\n",
    "# rv1 is just the argmin of the CCF, the rv2 is an actual Gaussian fit minimum to the CCF valley\n",
    "# You can see that order 18 is pretty wonky -- likely tellurics\n",
    "# orders = [55,56]\n",
    "# rv1, rv2 = N.rvabs_for_orders(v,orders,plot=True,verbose=True)"
   ]
  },
  {
   "cell_type": "code",
   "execution_count": null,
   "metadata": {},
   "outputs": [],
   "source": [
    "# Lets calculate fast ccfs for well-behaved orders using the crosscorr package\n",
    "v = np.linspace(-125.,125.,1501)\n",
    "orders = [55,56,57,94,95,]\n",
    "ccf = N.calculate_ccf_for_orders(v,orders=orders,plot=True)"
   ]
  },
  {
   "cell_type": "markdown",
   "metadata": {},
   "source": [
    "# Working with a collection of spectra"
   ]
  },
  {
   "cell_type": "code",
   "execution_count": null,
   "metadata": {},
   "outputs": [],
   "source": [
    "import glob"
   ]
  },
  {
   "cell_type": "code",
   "execution_count": null,
   "metadata": {},
   "outputs": [],
   "source": [
    "files = glob.glob(\"../neidspec/data/neid/spectra/*.fits\")\n",
    "HS = neidspec.NEIDSpecList(filelist=files)"
   ]
  },
  {
   "cell_type": "code",
   "execution_count": null,
   "metadata": {},
   "outputs": [],
   "source": [
    "HS.df"
   ]
  },
  {
   "cell_type": "code",
   "execution_count": null,
   "metadata": {},
   "outputs": [],
   "source": [
    "HS.sn55"
   ]
  },
  {
   "cell_type": "code",
   "execution_count": null,
   "metadata": {},
   "outputs": [],
   "source": [
    "HS.objects"
   ]
  },
  {
   "cell_type": "code",
   "execution_count": null,
   "metadata": {},
   "outputs": [],
   "source": [
    "N"
   ]
  },
  {
   "cell_type": "code",
   "execution_count": null,
   "metadata": {},
   "outputs": [],
   "source": []
  }
 ],
 "metadata": {
  "kernelspec": {
   "display_name": "Python 3 (ipykernel)",
   "language": "python",
   "name": "python3"
  },
  "language_info": {
   "codemirror_mode": {
    "name": "ipython",
    "version": 3
   },
   "file_extension": ".py",
   "mimetype": "text/x-python",
   "name": "python",
   "nbconvert_exporter": "python",
   "pygments_lexer": "ipython3",
   "version": "3.10.12"
  }
 },
 "nbformat": 4,
 "nbformat_minor": 2
}
